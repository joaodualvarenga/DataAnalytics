{
 "cells": [
  {
   "cell_type": "markdown",
   "id": "223a8042-6cb4-4aa9-a68a-3be3884a5bef",
   "metadata": {},
   "source": [
    "Testes\n"
   ]
  },
  {
   "cell_type": "code",
   "execution_count": 1,
   "id": "6efd479a-100b-4e01-8edd-946481b16341",
   "metadata": {},
   "outputs": [
    {
     "name": "stdout",
     "output_type": "stream",
     "text": [
      "A média da lista é: 21.6\n"
     ]
    }
   ],
   "source": [
    "import statistics as est\n",
    "lst = [1,2,30,30,45]\n",
    "x = est.mean(lst)\n",
    "print(\"A média da lista é:\",x)\n",
    "\n"
   ]
  },
  {
   "cell_type": "code",
   "execution_count": 2,
   "id": "17c0ba56-4ea2-42d1-8d5b-603e975867a0",
   "metadata": {},
   "outputs": [
    {
     "name": "stdout",
     "output_type": "stream",
     "text": [
      "A diferença entre o maior e o menor valor na lista é de: 40\n"
     ]
    }
   ],
   "source": [
    "#Função Amplitude\n",
    "\n",
    "lst = [10,20,30,40,50]\n",
    "\n",
    "def Amplitude(lista):\n",
    "    print(\"A diferença entre o maior e o menor valor na lista é de:\", max(lista)-min(lista))\n",
    "    \n",
    "Amplitude(lst)"
   ]
  },
  {
   "cell_type": "code",
   "execution_count": 3,
   "id": "eb7e91b4-9f60-4d9e-8671-6167572f8579",
   "metadata": {},
   "outputs": [
    {
     "name": "stdin",
     "output_type": "stream",
     "text": [
      "Escreva uma palavra: saude\n"
     ]
    },
    {
     "name": "stdout",
     "output_type": "stream",
     "text": [
      "s\n",
      "a\n",
      "u\n",
      "d\n",
      "e\n"
     ]
    }
   ],
   "source": [
    "def Imprime(palavra):\n",
    "    for n in range (0, len(palavra)):\n",
    "        print(palavra[n])\n",
    "\n",
    "x = input(\"Escreva uma palavra:\") \n",
    "Imprime(x)"
   ]
  },
  {
   "cell_type": "code",
   "execution_count": 4,
   "id": "30f9e08c-95f5-474d-8653-5887bddf68ec",
   "metadata": {},
   "outputs": [
    {
     "name": "stdin",
     "output_type": "stream",
     "text": [
      "Digite o peso da carga 4\n"
     ]
    },
    {
     "name": "stdout",
     "output_type": "stream",
     "text": [
      "O valor será de R$50 reais\n"
     ]
    }
   ],
   "source": [
    "#Teste de peso\n",
    "x = float(input(\"Digite o peso da carga\"))\n",
    "if(x<=10):\n",
    "    print(\"O valor será de R$50 reais\")\n",
    "elif (x>10 and x<=20):\n",
    "    print(\"O valor será de R$80 reais\")\n",
    "else:\n",
    "    print(\"Transporte não aceito\")"
   ]
  },
  {
   "cell_type": "code",
   "execution_count": null,
   "id": "5dddc0b8-cec0-4fbf-8ba7-dfe955f0eec3",
   "metadata": {},
   "outputs": [],
   "source": []
  }
 ],
 "metadata": {
  "kernelspec": {
   "display_name": "Python 3 (ipykernel)",
   "language": "python",
   "name": "python3"
  },
  "language_info": {
   "codemirror_mode": {
    "name": "ipython",
    "version": 3
   },
   "file_extension": ".py",
   "mimetype": "text/x-python",
   "name": "python",
   "nbconvert_exporter": "python",
   "pygments_lexer": "ipython3",
   "version": "3.9.13"
  }
 },
 "nbformat": 4,
 "nbformat_minor": 5
}
