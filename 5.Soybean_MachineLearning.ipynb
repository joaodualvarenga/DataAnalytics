{
 "cells": [
  {
   "cell_type": "markdown",
   "id": "aef0aee9-bddc-4b5b-930e-2dbde2ba94c8",
   "metadata": {},
   "source": [
    "Prática de Machine Learning"
   ]
  },
  {
   "cell_type": "code",
   "execution_count": 1,
   "id": "e2b0c2e1-1a9a-4b35-8fe1-296305e0fd42",
   "metadata": {},
   "outputs": [],
   "source": [
    "import pandas as pd\n",
    "from sklearn.model_selection import train_test_split\n",
    "from sklearn.preprocessing import LabelEncoder\n",
    "from sklearn.metrics import confusion_matrix, accuracy_score\n",
    "from sklearn.ensemble import RandomForestClassifier\n",
    "from sklearn.naive_bayes import GaussianNB\n",
    "from sklearn.neighbors import KNeighborsClassifier\n",
    "from keras.models import Sequential\n",
    "from keras.layers import Dense\n",
    "from keras.utils import np_utils\n",
    "from sklearn import datasets\n",
    "import numpy as np"
   ]
  },
  {
   "cell_type": "code",
   "execution_count": 2,
   "id": "dfc9c9e8-9881-44e0-a79d-66d2fdf46358",
   "metadata": {},
   "outputs": [
    {
     "data": {
      "text/html": [
       "<div>\n",
       "<style scoped>\n",
       "    .dataframe tbody tr th:only-of-type {\n",
       "        vertical-align: middle;\n",
       "    }\n",
       "\n",
       "    .dataframe tbody tr th {\n",
       "        vertical-align: top;\n",
       "    }\n",
       "\n",
       "    .dataframe thead th {\n",
       "        text-align: right;\n",
       "    }\n",
       "</style>\n",
       "<table border=\"1\" class=\"dataframe\">\n",
       "  <thead>\n",
       "    <tr style=\"text-align: right;\">\n",
       "      <th></th>\n",
       "      <th>date</th>\n",
       "      <th>plant-stand</th>\n",
       "      <th>precip</th>\n",
       "      <th>temp</th>\n",
       "      <th>hail</th>\n",
       "      <th>crop-hist</th>\n",
       "      <th>area-damaged</th>\n",
       "      <th>severity</th>\n",
       "      <th>seed-tmt</th>\n",
       "      <th>germination</th>\n",
       "      <th>...</th>\n",
       "      <th>sclerotia</th>\n",
       "      <th>fruit-pods</th>\n",
       "      <th>fruit-spots</th>\n",
       "      <th>seed</th>\n",
       "      <th>mold-growth</th>\n",
       "      <th>seed-discolor</th>\n",
       "      <th>seed-size</th>\n",
       "      <th>shriveling</th>\n",
       "      <th>roots</th>\n",
       "      <th>class</th>\n",
       "    </tr>\n",
       "  </thead>\n",
       "  <tbody>\n",
       "    <tr>\n",
       "      <th>0</th>\n",
       "      <td>october</td>\n",
       "      <td>normal</td>\n",
       "      <td>gt-norm</td>\n",
       "      <td>norm</td>\n",
       "      <td>yes</td>\n",
       "      <td>same-lst-yr</td>\n",
       "      <td>low-areas</td>\n",
       "      <td>pot-severe</td>\n",
       "      <td>none</td>\n",
       "      <td>90-100</td>\n",
       "      <td>...</td>\n",
       "      <td>absent</td>\n",
       "      <td>norm</td>\n",
       "      <td>dna</td>\n",
       "      <td>norm</td>\n",
       "      <td>absent</td>\n",
       "      <td>absent</td>\n",
       "      <td>norm</td>\n",
       "      <td>absent</td>\n",
       "      <td>norm</td>\n",
       "      <td>diaporthe-stem-canker</td>\n",
       "    </tr>\n",
       "    <tr>\n",
       "      <th>1</th>\n",
       "      <td>august</td>\n",
       "      <td>normal</td>\n",
       "      <td>gt-norm</td>\n",
       "      <td>norm</td>\n",
       "      <td>yes</td>\n",
       "      <td>same-lst-two-yrs</td>\n",
       "      <td>scattered</td>\n",
       "      <td>severe</td>\n",
       "      <td>fungicide</td>\n",
       "      <td>80-89</td>\n",
       "      <td>...</td>\n",
       "      <td>absent</td>\n",
       "      <td>norm</td>\n",
       "      <td>dna</td>\n",
       "      <td>norm</td>\n",
       "      <td>absent</td>\n",
       "      <td>absent</td>\n",
       "      <td>norm</td>\n",
       "      <td>absent</td>\n",
       "      <td>norm</td>\n",
       "      <td>diaporthe-stem-canker</td>\n",
       "    </tr>\n",
       "    <tr>\n",
       "      <th>2</th>\n",
       "      <td>july</td>\n",
       "      <td>normal</td>\n",
       "      <td>gt-norm</td>\n",
       "      <td>norm</td>\n",
       "      <td>yes</td>\n",
       "      <td>same-lst-yr</td>\n",
       "      <td>scattered</td>\n",
       "      <td>severe</td>\n",
       "      <td>fungicide</td>\n",
       "      <td>lt-80</td>\n",
       "      <td>...</td>\n",
       "      <td>absent</td>\n",
       "      <td>norm</td>\n",
       "      <td>dna</td>\n",
       "      <td>norm</td>\n",
       "      <td>absent</td>\n",
       "      <td>absent</td>\n",
       "      <td>norm</td>\n",
       "      <td>absent</td>\n",
       "      <td>norm</td>\n",
       "      <td>diaporthe-stem-canker</td>\n",
       "    </tr>\n",
       "    <tr>\n",
       "      <th>3</th>\n",
       "      <td>july</td>\n",
       "      <td>normal</td>\n",
       "      <td>gt-norm</td>\n",
       "      <td>norm</td>\n",
       "      <td>yes</td>\n",
       "      <td>same-lst-yr</td>\n",
       "      <td>scattered</td>\n",
       "      <td>severe</td>\n",
       "      <td>none</td>\n",
       "      <td>80-89</td>\n",
       "      <td>...</td>\n",
       "      <td>absent</td>\n",
       "      <td>norm</td>\n",
       "      <td>dna</td>\n",
       "      <td>norm</td>\n",
       "      <td>absent</td>\n",
       "      <td>absent</td>\n",
       "      <td>norm</td>\n",
       "      <td>absent</td>\n",
       "      <td>norm</td>\n",
       "      <td>diaporthe-stem-canker</td>\n",
       "    </tr>\n",
       "    <tr>\n",
       "      <th>4</th>\n",
       "      <td>october</td>\n",
       "      <td>normal</td>\n",
       "      <td>gt-norm</td>\n",
       "      <td>norm</td>\n",
       "      <td>yes</td>\n",
       "      <td>same-lst-two-yrs</td>\n",
       "      <td>scattered</td>\n",
       "      <td>pot-severe</td>\n",
       "      <td>none</td>\n",
       "      <td>lt-80</td>\n",
       "      <td>...</td>\n",
       "      <td>absent</td>\n",
       "      <td>norm</td>\n",
       "      <td>dna</td>\n",
       "      <td>norm</td>\n",
       "      <td>absent</td>\n",
       "      <td>absent</td>\n",
       "      <td>norm</td>\n",
       "      <td>absent</td>\n",
       "      <td>norm</td>\n",
       "      <td>diaporthe-stem-canker</td>\n",
       "    </tr>\n",
       "  </tbody>\n",
       "</table>\n",
       "<p>5 rows × 36 columns</p>\n",
       "</div>"
      ],
      "text/plain": [
       "      date plant-stand   precip  temp hail         crop-hist area-damaged  \\\n",
       "0  october      normal  gt-norm  norm  yes       same-lst-yr    low-areas   \n",
       "1   august      normal  gt-norm  norm  yes  same-lst-two-yrs    scattered   \n",
       "2     july      normal  gt-norm  norm  yes       same-lst-yr    scattered   \n",
       "3     july      normal  gt-norm  norm  yes       same-lst-yr    scattered   \n",
       "4  october      normal  gt-norm  norm  yes  same-lst-two-yrs    scattered   \n",
       "\n",
       "     severity   seed-tmt germination  ... sclerotia fruit-pods fruit-spots  \\\n",
       "0  pot-severe       none      90-100  ...    absent       norm         dna   \n",
       "1      severe  fungicide       80-89  ...    absent       norm         dna   \n",
       "2      severe  fungicide       lt-80  ...    absent       norm         dna   \n",
       "3      severe       none       80-89  ...    absent       norm         dna   \n",
       "4  pot-severe       none       lt-80  ...    absent       norm         dna   \n",
       "\n",
       "   seed mold-growth seed-discolor seed-size shriveling roots  \\\n",
       "0  norm      absent        absent      norm     absent  norm   \n",
       "1  norm      absent        absent      norm     absent  norm   \n",
       "2  norm      absent        absent      norm     absent  norm   \n",
       "3  norm      absent        absent      norm     absent  norm   \n",
       "4  norm      absent        absent      norm     absent  norm   \n",
       "\n",
       "                   class  \n",
       "0  diaporthe-stem-canker  \n",
       "1  diaporthe-stem-canker  \n",
       "2  diaporthe-stem-canker  \n",
       "3  diaporthe-stem-canker  \n",
       "4  diaporthe-stem-canker  \n",
       "\n",
       "[5 rows x 36 columns]"
      ]
     },
     "execution_count": 2,
     "metadata": {},
     "output_type": "execute_result"
    }
   ],
   "source": [
    "Diagnostico = pd.read_csv('soybean.csv')\n",
    "Diagnostico.head()"
   ]
  },
  {
   "cell_type": "code",
   "execution_count": 3,
   "id": "c3b232a9-85d5-4172-a744-69aa16501d53",
   "metadata": {},
   "outputs": [
    {
     "data": {
      "text/plain": [
       "(683, 36)"
      ]
     },
     "execution_count": 3,
     "metadata": {},
     "output_type": "execute_result"
    }
   ],
   "source": [
    "Diagnostico.shape"
   ]
  },
  {
   "cell_type": "code",
   "execution_count": 4,
   "id": "abe65f7b-5a34-46db-9dd0-fafd741fb8d1",
   "metadata": {},
   "outputs": [],
   "source": [
    "previsores = Diagnostico.iloc[:,0:35].values\n",
    "classe = Diagnostico.iloc[:,35].values"
   ]
  },
  {
   "cell_type": "code",
   "execution_count": 5,
   "id": "c45086d0-fd1b-442f-addb-c9de3cd338e5",
   "metadata": {},
   "outputs": [
    {
     "data": {
      "text/plain": [
       "array([[6, 2, 1, ..., 2, 1, 2],\n",
       "       [2, 2, 1, ..., 2, 1, 2],\n",
       "       [3, 2, 1, ..., 2, 1, 2],\n",
       "       ...,\n",
       "       [4, 1, 0, ..., 0, 0, 3],\n",
       "       [1, 1, 0, ..., 0, 0, 3],\n",
       "       [4, 1, 0, ..., 0, 0, 3]], dtype=object)"
      ]
     },
     "execution_count": 5,
     "metadata": {},
     "output_type": "execute_result"
    }
   ],
   "source": [
    "labelencoder = LabelEncoder()\n",
    "for x in range(35):\n",
    "    previsores[:,x] = labelencoder.fit_transform(previsores[:,x])\n",
    "previsores"
   ]
  },
  {
   "cell_type": "code",
   "execution_count": 6,
   "id": "629801c6-df56-48fd-98e8-6363da515a63",
   "metadata": {},
   "outputs": [],
   "source": [
    "X_treinamento, X_teste, y_treinamento, y_teste = train_test_split(previsores,\n",
    "                                                                  classe,\n",
    "                                                                  test_size = 0.3,\n",
    "                                                                  random_state = 0)"
   ]
  },
  {
   "cell_type": "code",
   "execution_count": 7,
   "id": "366a7cd9-f225-4edb-95ad-b443358900c2",
   "metadata": {},
   "outputs": [
    {
     "data": {
      "text/plain": [
       "GaussianNB()"
      ]
     },
     "execution_count": 7,
     "metadata": {},
     "output_type": "execute_result"
    }
   ],
   "source": [
    "#Naive_bayes\n",
    "naive_bayes = GaussianNB()\n",
    "naive_bayes.fit(X_treinamento, y_treinamento)"
   ]
  },
  {
   "cell_type": "code",
   "execution_count": 8,
   "id": "a338f2b6-5cc4-4f5b-a836-80590a12c848",
   "metadata": {},
   "outputs": [
    {
     "data": {
      "text/plain": [
       "array(['alternarialeaf-spot', 'phytophthora-rot', 'herbicide-injury',\n",
       "       'purple-seed-stain', 'cyst-nematode', 'bacterial-blight',\n",
       "       'brown-stem-rot', 'bacterial-pustule', 'brown-spot',\n",
       "       'alternarialeaf-spot', 'charcoal-rot', 'bacterial-blight',\n",
       "       'anthracnose', 'anthracnose', 'alternarialeaf-spot', 'brown-spot',\n",
       "       'alternarialeaf-spot', 'alternarialeaf-spot',\n",
       "       'rhizoctonia-root-rot', 'phytophthora-rot', 'anthracnose',\n",
       "       'brown-stem-rot', 'phyllosticta-leaf-spot',\n",
       "       'phyllosticta-leaf-spot', 'diaporthe-stem-canker', 'brown-spot',\n",
       "       'anthracnose', 'diaporthe-stem-canker', 'bacterial-pustule',\n",
       "       'phytophthora-rot', 'frog-eye-leaf-spot', 'alternarialeaf-spot',\n",
       "       'phyllosticta-leaf-spot', 'frog-eye-leaf-spot',\n",
       "       'frog-eye-leaf-spot', 'bacterial-pustule', 'brown-stem-rot',\n",
       "       'charcoal-rot', 'brown-spot', 'alternarialeaf-spot',\n",
       "       'brown-stem-rot', 'alternarialeaf-spot', 'phytophthora-rot',\n",
       "       'anthracnose', 'bacterial-blight', '2-4-d-injury',\n",
       "       'alternarialeaf-spot', 'phyllosticta-leaf-spot',\n",
       "       'phyllosticta-leaf-spot', 'alternarialeaf-spot',\n",
       "       'phyllosticta-leaf-spot', 'brown-stem-rot', 'anthracnose',\n",
       "       'frog-eye-leaf-spot', 'brown-stem-rot', 'frog-eye-leaf-spot',\n",
       "       'alternarialeaf-spot', 'diaporthe-stem-canker', 'brown-stem-rot',\n",
       "       'downy-mildew', 'bacterial-pustule', 'downy-mildew',\n",
       "       'alternarialeaf-spot', 'alternarialeaf-spot', 'bacterial-blight',\n",
       "       'anthracnose', 'rhizoctonia-root-rot', 'phytophthora-rot',\n",
       "       'anthracnose', 'anthracnose', 'cyst-nematode',\n",
       "       'alternarialeaf-spot', 'alternarialeaf-spot', 'brown-spot',\n",
       "       'rhizoctonia-root-rot', 'phytophthora-rot', 'phytophthora-rot',\n",
       "       'frog-eye-leaf-spot', 'frog-eye-leaf-spot',\n",
       "       'diaporthe-stem-canker', 'brown-spot', 'frog-eye-leaf-spot',\n",
       "       'alternarialeaf-spot', 'diaporthe-stem-canker',\n",
       "       'purple-seed-stain', 'phytophthora-rot', 'anthracnose',\n",
       "       'alternarialeaf-spot', 'frog-eye-leaf-spot', 'phytophthora-rot',\n",
       "       'charcoal-rot', 'brown-spot', 'diaporthe-stem-canker',\n",
       "       'anthracnose', 'anthracnose', 'anthracnose', 'brown-spot',\n",
       "       'phytophthora-rot', 'downy-mildew', 'alternarialeaf-spot',\n",
       "       'anthracnose', 'alternarialeaf-spot', 'brown-spot',\n",
       "       'alternarialeaf-spot', 'charcoal-rot', 'downy-mildew',\n",
       "       'anthracnose', 'phyllosticta-leaf-spot', 'alternarialeaf-spot',\n",
       "       'cyst-nematode', 'anthracnose', 'phyllosticta-leaf-spot',\n",
       "       'alternarialeaf-spot', 'alternarialeaf-spot', 'charcoal-rot',\n",
       "       'phyllosticta-leaf-spot', 'frog-eye-leaf-spot',\n",
       "       'rhizoctonia-root-rot', 'brown-stem-rot', 'phytophthora-rot',\n",
       "       'phytophthora-rot', 'charcoal-rot', 'frog-eye-leaf-spot',\n",
       "       'anthracnose', '2-4-d-injury', 'phytophthora-rot', 'brown-spot',\n",
       "       'alternarialeaf-spot', 'anthracnose',\n",
       "       'diaporthe-pod-&-stem-blight', 'phyllosticta-leaf-spot',\n",
       "       'anthracnose', 'rhizoctonia-root-rot', 'alternarialeaf-spot',\n",
       "       'purple-seed-stain', 'bacterial-pustule', 'brown-stem-rot',\n",
       "       'diaporthe-stem-canker', 'phyllosticta-leaf-spot',\n",
       "       'frog-eye-leaf-spot', 'brown-stem-rot', 'downy-mildew',\n",
       "       'alternarialeaf-spot', 'purple-seed-stain', 'alternarialeaf-spot',\n",
       "       'alternarialeaf-spot', 'alternarialeaf-spot', 'powdery-mildew',\n",
       "       'frog-eye-leaf-spot', 'phyllosticta-leaf-spot', '2-4-d-injury',\n",
       "       'phytophthora-rot', 'frog-eye-leaf-spot', 'phytophthora-rot',\n",
       "       'bacterial-blight', 'bacterial-blight', 'brown-stem-rot',\n",
       "       'bacterial-blight', 'purple-seed-stain', 'herbicide-injury',\n",
       "       'diaporthe-pod-&-stem-blight', 'phyllosticta-leaf-spot',\n",
       "       'alternarialeaf-spot', 'charcoal-rot', 'bacterial-pustule',\n",
       "       'cyst-nematode', 'frog-eye-leaf-spot', 'bacterial-blight',\n",
       "       'charcoal-rot', 'brown-stem-rot', 'powdery-mildew',\n",
       "       'phyllosticta-leaf-spot', 'phytophthora-rot',\n",
       "       'alternarialeaf-spot', 'cyst-nematode', 'phytophthora-rot',\n",
       "       'frog-eye-leaf-spot', 'alternarialeaf-spot', 'frog-eye-leaf-spot',\n",
       "       'anthracnose', 'alternarialeaf-spot', 'charcoal-rot',\n",
       "       'alternarialeaf-spot', 'alternarialeaf-spot',\n",
       "       'diaporthe-stem-canker', 'frog-eye-leaf-spot', 'brown-stem-rot',\n",
       "       'frog-eye-leaf-spot', 'diaporthe-pod-&-stem-blight',\n",
       "       'phytophthora-rot', 'diaporthe-pod-&-stem-blight',\n",
       "       'frog-eye-leaf-spot', 'anthracnose', 'alternarialeaf-spot',\n",
       "       'frog-eye-leaf-spot', 'phytophthora-rot', 'powdery-mildew',\n",
       "       'alternarialeaf-spot', 'herbicide-injury', 'alternarialeaf-spot',\n",
       "       'anthracnose', 'diaporthe-pod-&-stem-blight', 'purple-seed-stain',\n",
       "       'bacterial-pustule', 'diaporthe-pod-&-stem-blight'], dtype='<U27')"
      ]
     },
     "execution_count": 8,
     "metadata": {},
     "output_type": "execute_result"
    }
   ],
   "source": [
    "previsoes = naive_bayes.predict(X_teste)\n",
    "previsoes"
   ]
  },
  {
   "cell_type": "code",
   "execution_count": 9,
   "id": "1d93484d-adad-439b-ad43-96d510e2825e",
   "metadata": {},
   "outputs": [
    {
     "data": {
      "text/plain": [
       "array([[ 3,  0,  0,  0,  0,  0,  0,  0,  0,  0,  0,  0,  0,  0,  0,  0,\n",
       "         0,  0,  0],\n",
       "       [ 0, 26,  0,  0,  0,  0,  0,  0,  0,  0,  0,  0,  0,  0,  1,  0,\n",
       "         0,  0,  0],\n",
       "       [ 0,  0, 14,  0,  0,  0,  0,  0,  0,  0,  0,  0,  0,  0,  0,  0,\n",
       "         0,  0,  0],\n",
       "       [ 0,  0,  0,  8,  0,  0,  0,  0,  0,  0,  0,  0,  0,  0,  0,  0,\n",
       "         0,  0,  0],\n",
       "       [ 0,  0,  0,  0,  7,  0,  0,  0,  0,  0,  0,  0,  0,  0,  0,  0,\n",
       "         0,  0,  0],\n",
       "       [ 0,  7,  0,  0,  0, 10,  0,  0,  0,  0,  0,  0,  1,  0,  5,  0,\n",
       "         0,  0,  0],\n",
       "       [ 0,  0,  0,  0,  0,  0, 13,  0,  0,  0,  0,  0,  0,  0,  0,  0,\n",
       "         0,  0,  0],\n",
       "       [ 0,  0,  0,  0,  0,  0,  0,  9,  0,  0,  0,  0,  0,  0,  0,  0,\n",
       "         0,  0,  0],\n",
       "       [ 0,  0,  0,  0,  0,  0,  0,  0,  5,  0,  0,  0,  0,  0,  0,  0,\n",
       "         0,  0,  0],\n",
       "       [ 0,  0,  0,  0,  0,  0,  0,  0,  0,  6,  0,  0,  0,  0,  0,  0,\n",
       "         0,  0,  0],\n",
       "       [ 0,  0,  0,  0,  0,  0,  0,  0,  0,  0,  8,  0,  0,  0,  0,  0,\n",
       "         0,  0,  0],\n",
       "       [ 0,  0,  0,  0,  0,  0,  0,  0,  0,  0,  0,  5,  0,  0,  0,  0,\n",
       "         0,  0,  0],\n",
       "       [ 0,  5,  0,  0,  0,  0,  0,  0,  0,  0,  0,  0, 20,  0,  1,  1,\n",
       "         0,  0,  0],\n",
       "       [ 0,  0,  0,  0,  0,  0,  0,  0,  0,  0,  0,  0,  0,  3,  0,  0,\n",
       "         0,  0,  0],\n",
       "       [ 0,  0,  0,  0,  0,  0,  0,  0,  0,  0,  0,  0,  0,  0,  7,  0,\n",
       "         0,  0,  0],\n",
       "       [ 0,  0,  8,  0,  0,  0,  0,  0,  0,  0,  0,  0,  0,  0,  0, 18,\n",
       "         0,  0,  0],\n",
       "       [ 0,  0,  0,  0,  0,  0,  0,  0,  0,  0,  0,  0,  0,  0,  0,  0,\n",
       "         3,  0,  0],\n",
       "       [ 0,  0,  0,  0,  0,  0,  0,  0,  0,  0,  0,  0,  0,  0,  0,  0,\n",
       "         0,  6,  0],\n",
       "       [ 0,  0,  0,  0,  0,  0,  0,  0,  0,  0,  0,  0,  0,  0,  0,  0,\n",
       "         0,  0,  5]], dtype=int64)"
      ]
     },
     "execution_count": 9,
     "metadata": {},
     "output_type": "execute_result"
    }
   ],
   "source": [
    "confusao = confusion_matrix(y_teste, previsoes)\n",
    "confusao"
   ]
  },
  {
   "cell_type": "code",
   "execution_count": 10,
   "id": "a6b67dfd-515a-4ec9-9fad-a10872514828",
   "metadata": {},
   "outputs": [
    {
     "data": {
      "text/plain": [
       "0.8585365853658536"
      ]
     },
     "execution_count": 10,
     "metadata": {},
     "output_type": "execute_result"
    }
   ],
   "source": [
    "taxa_acerto = accuracy_score(y_teste, previsoes)\n",
    "taxa_acerto"
   ]
  },
  {
   "cell_type": "code",
   "execution_count": 11,
   "id": "531fd6a7-c3cb-4e40-8918-18b72a398422",
   "metadata": {},
   "outputs": [
    {
     "data": {
      "text/plain": [
       "RandomForestClassifier()"
      ]
     },
     "execution_count": 11,
     "metadata": {},
     "output_type": "execute_result"
    }
   ],
   "source": [
    "#Random Forest\n",
    "floresta = RandomForestClassifier(n_estimators = 100)\n",
    "floresta.fit(X_treinamento, y_treinamento)"
   ]
  },
  {
   "cell_type": "code",
   "execution_count": 12,
   "id": "6b6c6f19-21f7-4385-88be-a0b7d4e71e1d",
   "metadata": {},
   "outputs": [
    {
     "data": {
      "text/plain": [
       "array(['brown-spot', 'phytophthora-rot', 'herbicide-injury',\n",
       "       'purple-seed-stain', 'cyst-nematode', 'bacterial-blight',\n",
       "       'brown-stem-rot', 'bacterial-pustule', 'brown-spot',\n",
       "       'alternarialeaf-spot', 'charcoal-rot', 'bacterial-blight',\n",
       "       'anthracnose', 'anthracnose', 'alternarialeaf-spot', 'brown-spot',\n",
       "       'alternarialeaf-spot', 'alternarialeaf-spot',\n",
       "       'rhizoctonia-root-rot', 'phytophthora-rot', 'anthracnose',\n",
       "       'brown-stem-rot', 'brown-spot', 'phyllosticta-leaf-spot',\n",
       "       'diaporthe-stem-canker', 'brown-spot', 'anthracnose',\n",
       "       'diaporthe-stem-canker', 'bacterial-pustule', 'phytophthora-rot',\n",
       "       'frog-eye-leaf-spot', 'alternarialeaf-spot',\n",
       "       'phyllosticta-leaf-spot', 'frog-eye-leaf-spot', 'brown-spot',\n",
       "       'bacterial-pustule', 'brown-stem-rot', 'charcoal-rot',\n",
       "       'brown-spot', 'brown-spot', 'brown-stem-rot',\n",
       "       'alternarialeaf-spot', 'phytophthora-rot', 'anthracnose',\n",
       "       'bacterial-blight', '2-4-d-injury', 'alternarialeaf-spot',\n",
       "       'phyllosticta-leaf-spot', 'phyllosticta-leaf-spot',\n",
       "       'alternarialeaf-spot', 'brown-spot', 'brown-stem-rot',\n",
       "       'phytophthora-rot', 'frog-eye-leaf-spot', 'brown-stem-rot',\n",
       "       'frog-eye-leaf-spot', 'frog-eye-leaf-spot',\n",
       "       'diaporthe-stem-canker', 'brown-stem-rot', 'downy-mildew',\n",
       "       'bacterial-pustule', 'downy-mildew', 'alternarialeaf-spot',\n",
       "       'alternarialeaf-spot', 'bacterial-blight', 'anthracnose',\n",
       "       'rhizoctonia-root-rot', 'brown-spot', 'phytophthora-rot',\n",
       "       'phytophthora-rot', 'cyst-nematode', 'alternarialeaf-spot',\n",
       "       'alternarialeaf-spot', 'brown-spot', 'rhizoctonia-root-rot',\n",
       "       'phytophthora-rot', 'phytophthora-rot', 'frog-eye-leaf-spot',\n",
       "       'frog-eye-leaf-spot', 'diaporthe-stem-canker', 'brown-spot',\n",
       "       'frog-eye-leaf-spot', 'alternarialeaf-spot',\n",
       "       'diaporthe-stem-canker', 'purple-seed-stain', 'phytophthora-rot',\n",
       "       'anthracnose', 'alternarialeaf-spot', 'frog-eye-leaf-spot',\n",
       "       'phytophthora-rot', 'charcoal-rot', 'brown-spot',\n",
       "       'diaporthe-stem-canker', 'phytophthora-rot', 'phytophthora-rot',\n",
       "       'phytophthora-rot', 'brown-spot', 'phytophthora-rot',\n",
       "       'downy-mildew', 'alternarialeaf-spot', 'anthracnose',\n",
       "       'alternarialeaf-spot', 'brown-spot', 'alternarialeaf-spot',\n",
       "       'charcoal-rot', 'downy-mildew', 'phytophthora-rot', 'brown-spot',\n",
       "       'brown-spot', 'cyst-nematode', 'anthracnose', 'brown-spot',\n",
       "       'alternarialeaf-spot', 'alternarialeaf-spot', 'charcoal-rot',\n",
       "       'phyllosticta-leaf-spot', 'frog-eye-leaf-spot',\n",
       "       'rhizoctonia-root-rot', 'brown-stem-rot', 'phytophthora-rot',\n",
       "       'phytophthora-rot', 'charcoal-rot', 'frog-eye-leaf-spot',\n",
       "       'phytophthora-rot', '2-4-d-injury', 'phytophthora-rot',\n",
       "       'brown-spot', 'alternarialeaf-spot', 'anthracnose',\n",
       "       'diaporthe-pod-&-stem-blight', 'brown-spot', 'anthracnose',\n",
       "       'rhizoctonia-root-rot', 'brown-spot', 'purple-seed-stain',\n",
       "       'bacterial-pustule', 'brown-stem-rot', 'diaporthe-stem-canker',\n",
       "       'brown-spot', 'frog-eye-leaf-spot', 'brown-stem-rot',\n",
       "       'downy-mildew', 'frog-eye-leaf-spot', 'purple-seed-stain',\n",
       "       'brown-spot', 'frog-eye-leaf-spot', 'alternarialeaf-spot',\n",
       "       'powdery-mildew', 'frog-eye-leaf-spot', 'phyllosticta-leaf-spot',\n",
       "       '2-4-d-injury', 'phytophthora-rot', 'frog-eye-leaf-spot',\n",
       "       'phytophthora-rot', 'bacterial-blight', 'bacterial-blight',\n",
       "       'brown-stem-rot', 'bacterial-blight', 'purple-seed-stain',\n",
       "       'herbicide-injury', 'diaporthe-pod-&-stem-blight', 'brown-spot',\n",
       "       'brown-spot', 'charcoal-rot', 'bacterial-pustule', 'cyst-nematode',\n",
       "       'brown-spot', 'bacterial-blight', 'charcoal-rot', 'brown-stem-rot',\n",
       "       'powdery-mildew', 'alternarialeaf-spot', 'phytophthora-rot',\n",
       "       'alternarialeaf-spot', 'cyst-nematode', 'phytophthora-rot',\n",
       "       'frog-eye-leaf-spot', 'alternarialeaf-spot', 'frog-eye-leaf-spot',\n",
       "       'anthracnose', 'alternarialeaf-spot', 'charcoal-rot',\n",
       "       'alternarialeaf-spot', 'alternarialeaf-spot',\n",
       "       'diaporthe-stem-canker', 'frog-eye-leaf-spot', 'brown-stem-rot',\n",
       "       'frog-eye-leaf-spot', 'diaporthe-pod-&-stem-blight',\n",
       "       'phytophthora-rot', 'diaporthe-pod-&-stem-blight',\n",
       "       'frog-eye-leaf-spot', 'anthracnose', 'alternarialeaf-spot',\n",
       "       'frog-eye-leaf-spot', 'phytophthora-rot', 'powdery-mildew',\n",
       "       'alternarialeaf-spot', 'herbicide-injury', 'brown-spot',\n",
       "       'anthracnose', 'diaporthe-pod-&-stem-blight', 'purple-seed-stain',\n",
       "       'bacterial-pustule', 'diaporthe-pod-&-stem-blight'], dtype=object)"
      ]
     },
     "execution_count": 12,
     "metadata": {},
     "output_type": "execute_result"
    }
   ],
   "source": [
    "previsoes = floresta.predict(X_teste)\n",
    "previsoes"
   ]
  },
  {
   "cell_type": "code",
   "execution_count": 13,
   "id": "1fa6feba-252c-4efe-8569-e0a2712e3b81",
   "metadata": {},
   "outputs": [
    {
     "data": {
      "text/plain": [
       "array([[ 3,  0,  0,  0,  0,  0,  0,  0,  0,  0,  0,  0,  0,  0,  0,  0,\n",
       "         0,  0,  0],\n",
       "       [ 0, 26,  0,  0,  0,  0,  0,  0,  0,  0,  0,  0,  1,  0,  0,  0,\n",
       "         0,  0,  0],\n",
       "       [ 0,  0, 14,  0,  0,  0,  0,  0,  0,  0,  0,  0,  0,  0,  0,  0,\n",
       "         0,  0,  0],\n",
       "       [ 0,  0,  0,  8,  0,  0,  0,  0,  0,  0,  0,  0,  0,  0,  0,  0,\n",
       "         0,  0,  0],\n",
       "       [ 0,  0,  0,  0,  7,  0,  0,  0,  0,  0,  0,  0,  0,  0,  0,  0,\n",
       "         0,  0,  0],\n",
       "       [ 0,  0,  0,  0,  0, 22,  0,  0,  0,  0,  0,  0,  0,  0,  1,  0,\n",
       "         0,  0,  0],\n",
       "       [ 0,  0,  0,  0,  0,  0, 13,  0,  0,  0,  0,  0,  0,  0,  0,  0,\n",
       "         0,  0,  0],\n",
       "       [ 0,  0,  0,  0,  0,  0,  0,  9,  0,  0,  0,  0,  0,  0,  0,  0,\n",
       "         0,  0,  0],\n",
       "       [ 0,  0,  0,  0,  0,  0,  0,  0,  5,  0,  0,  0,  0,  0,  0,  0,\n",
       "         0,  0,  0],\n",
       "       [ 0,  0,  0,  0,  0,  0,  0,  0,  0,  6,  0,  0,  0,  0,  0,  0,\n",
       "         0,  0,  0],\n",
       "       [ 0,  0,  0,  0,  0,  0,  0,  0,  0,  0,  8,  0,  0,  0,  0,  0,\n",
       "         0,  0,  0],\n",
       "       [ 0,  0,  0,  0,  0,  0,  0,  0,  0,  0,  0,  5,  0,  0,  0,  0,\n",
       "         0,  0,  0],\n",
       "       [ 0,  3,  0,  0,  0,  3,  0,  0,  0,  0,  0,  0, 21,  0,  0,  0,\n",
       "         0,  0,  0],\n",
       "       [ 0,  0,  0,  0,  0,  0,  0,  0,  0,  0,  0,  0,  0,  3,  0,  0,\n",
       "         0,  0,  0],\n",
       "       [ 0,  0,  0,  0,  0,  2,  0,  0,  0,  0,  0,  0,  0,  0,  5,  0,\n",
       "         0,  0,  0],\n",
       "       [ 0,  0,  0,  0,  0,  0,  0,  0,  0,  0,  0,  0,  0,  0,  0, 26,\n",
       "         0,  0,  0],\n",
       "       [ 0,  0,  0,  0,  0,  0,  0,  0,  0,  0,  0,  0,  0,  0,  0,  0,\n",
       "         3,  0,  0],\n",
       "       [ 0,  0,  0,  0,  0,  0,  0,  0,  0,  0,  0,  0,  0,  0,  0,  0,\n",
       "         0,  6,  0],\n",
       "       [ 0,  0,  0,  0,  0,  0,  0,  0,  0,  0,  0,  0,  0,  0,  0,  0,\n",
       "         0,  0,  5]], dtype=int64)"
      ]
     },
     "execution_count": 13,
     "metadata": {},
     "output_type": "execute_result"
    }
   ],
   "source": [
    "matriz = confusion_matrix(y_teste, previsoes)\n",
    "matriz"
   ]
  },
  {
   "cell_type": "code",
   "execution_count": 14,
   "id": "479c6367-f013-4afa-930e-79bc013666bb",
   "metadata": {},
   "outputs": [
    {
     "data": {
      "text/plain": [
       "0.9512195121951219"
      ]
     },
     "execution_count": 14,
     "metadata": {},
     "output_type": "execute_result"
    }
   ],
   "source": [
    "taxa_acerto = accuracy_score(y_teste, previsoes)\n",
    "taxa_acerto"
   ]
  },
  {
   "cell_type": "code",
   "execution_count": 15,
   "id": "de58ca83-9ad8-4817-9333-6d24b86cd46e",
   "metadata": {},
   "outputs": [
    {
     "data": {
      "text/plain": [
       "KNeighborsClassifier(n_neighbors=3)"
      ]
     },
     "execution_count": 15,
     "metadata": {},
     "output_type": "execute_result"
    }
   ],
   "source": [
    "#Vizinhança\n",
    "knn = KNeighborsClassifier(n_neighbors = 3)\n",
    "knn.fit(X_treinamento, y_treinamento)"
   ]
  },
  {
   "cell_type": "code",
   "execution_count": 16,
   "id": "415e0fb3-a8ff-4ff8-bf0c-3decc486d780",
   "metadata": {},
   "outputs": [
    {
     "name": "stderr",
     "output_type": "stream",
     "text": [
      "C:\\Users\\joao_\\anaconda3\\lib\\site-packages\\sklearn\\neighbors\\_classification.py:228: FutureWarning: Unlike other reduction functions (e.g. `skew`, `kurtosis`), the default behavior of `mode` typically preserves the axis it acts along. In SciPy 1.11.0, this behavior will change: the default value of `keepdims` will become False, the `axis` over which the statistic is taken will be eliminated, and the value None will no longer be accepted. Set `keepdims` to True or False to avoid this warning.\n",
      "  mode, _ = stats.mode(_y[neigh_ind, k], axis=1)\n"
     ]
    },
    {
     "data": {
      "text/plain": [
       "array(['brown-spot', 'phytophthora-rot', 'herbicide-injury',\n",
       "       'alternarialeaf-spot', 'cyst-nematode', 'alternarialeaf-spot',\n",
       "       'brown-stem-rot', 'bacterial-pustule', 'brown-spot', 'brown-spot',\n",
       "       'charcoal-rot', 'bacterial-blight', 'anthracnose', 'anthracnose',\n",
       "       'alternarialeaf-spot', 'brown-spot', 'alternarialeaf-spot',\n",
       "       'alternarialeaf-spot', 'rhizoctonia-root-rot', 'phytophthora-rot',\n",
       "       'anthracnose', 'brown-stem-rot', 'phyllosticta-leaf-spot',\n",
       "       'brown-spot', 'diaporthe-stem-canker', 'brown-spot', 'anthracnose',\n",
       "       'diaporthe-stem-canker', 'bacterial-pustule', 'phytophthora-rot',\n",
       "       'frog-eye-leaf-spot', 'alternarialeaf-spot',\n",
       "       'phyllosticta-leaf-spot', 'frog-eye-leaf-spot', 'brown-spot',\n",
       "       'bacterial-blight', 'brown-stem-rot', 'charcoal-rot', 'brown-spot',\n",
       "       'brown-spot', 'brown-stem-rot', 'alternarialeaf-spot',\n",
       "       'phytophthora-rot', 'anthracnose', 'bacterial-blight',\n",
       "       '2-4-d-injury', 'alternarialeaf-spot', 'phyllosticta-leaf-spot',\n",
       "       'phyllosticta-leaf-spot', 'alternarialeaf-spot',\n",
       "       'bacterial-pustule', 'brown-stem-rot', 'phytophthora-rot',\n",
       "       'frog-eye-leaf-spot', 'brown-stem-rot', 'frog-eye-leaf-spot',\n",
       "       'frog-eye-leaf-spot', 'diaporthe-stem-canker', 'brown-stem-rot',\n",
       "       'alternarialeaf-spot', 'bacterial-blight', 'alternarialeaf-spot',\n",
       "       'alternarialeaf-spot', 'alternarialeaf-spot', 'brown-spot',\n",
       "       'brown-spot', 'phytophthora-rot', 'frog-eye-leaf-spot',\n",
       "       'phytophthora-rot', 'rhizoctonia-root-rot', 'cyst-nematode',\n",
       "       'alternarialeaf-spot', 'alternarialeaf-spot', 'brown-spot',\n",
       "       'rhizoctonia-root-rot', 'phytophthora-rot', 'phytophthora-rot',\n",
       "       'frog-eye-leaf-spot', 'frog-eye-leaf-spot',\n",
       "       'diaporthe-stem-canker', 'brown-spot', 'frog-eye-leaf-spot',\n",
       "       'alternarialeaf-spot', 'diaporthe-stem-canker',\n",
       "       'purple-seed-stain', 'phytophthora-rot', 'anthracnose',\n",
       "       'alternarialeaf-spot', 'brown-spot', 'phytophthora-rot',\n",
       "       'brown-stem-rot', 'brown-spot', 'diaporthe-stem-canker',\n",
       "       'rhizoctonia-root-rot', 'rhizoctonia-root-rot',\n",
       "       'rhizoctonia-root-rot', 'brown-spot', 'phytophthora-rot',\n",
       "       'downy-mildew', 'alternarialeaf-spot', 'anthracnose', 'brown-spot',\n",
       "       'brown-spot', 'alternarialeaf-spot', 'charcoal-rot',\n",
       "       'alternarialeaf-spot', 'rhizoctonia-root-rot',\n",
       "       'alternarialeaf-spot', 'brown-spot', 'cyst-nematode',\n",
       "       'anthracnose', 'alternarialeaf-spot', 'alternarialeaf-spot',\n",
       "       'frog-eye-leaf-spot', 'charcoal-rot', 'phyllosticta-leaf-spot',\n",
       "       'frog-eye-leaf-spot', 'rhizoctonia-root-rot', 'brown-stem-rot',\n",
       "       'phytophthora-rot', 'phytophthora-rot', 'charcoal-rot',\n",
       "       'frog-eye-leaf-spot', 'phytophthora-rot', '2-4-d-injury',\n",
       "       'phytophthora-rot', 'brown-spot', 'alternarialeaf-spot',\n",
       "       'anthracnose', 'diaporthe-pod-&-stem-blight',\n",
       "       'alternarialeaf-spot', 'anthracnose', 'rhizoctonia-root-rot',\n",
       "       'brown-spot', 'purple-seed-stain', 'brown-spot', 'brown-stem-rot',\n",
       "       'diaporthe-stem-canker', 'bacterial-blight', 'frog-eye-leaf-spot',\n",
       "       'brown-stem-rot', 'brown-spot', 'alternarialeaf-spot',\n",
       "       'purple-seed-stain', 'brown-spot', 'alternarialeaf-spot',\n",
       "       'alternarialeaf-spot', 'powdery-mildew', 'frog-eye-leaf-spot',\n",
       "       'bacterial-blight', '2-4-d-injury', 'phytophthora-rot',\n",
       "       'frog-eye-leaf-spot', 'phytophthora-rot', 'alternarialeaf-spot',\n",
       "       'bacterial-blight', 'brown-stem-rot', 'brown-spot',\n",
       "       'purple-seed-stain', 'herbicide-injury',\n",
       "       'diaporthe-pod-&-stem-blight', 'alternarialeaf-spot', 'brown-spot',\n",
       "       'charcoal-rot', 'bacterial-blight', 'cyst-nematode',\n",
       "       'frog-eye-leaf-spot', 'alternarialeaf-spot', 'charcoal-rot',\n",
       "       'brown-stem-rot', 'powdery-mildew', 'alternarialeaf-spot',\n",
       "       'phytophthora-rot', 'alternarialeaf-spot', 'cyst-nematode',\n",
       "       'phytophthora-rot', 'frog-eye-leaf-spot', 'alternarialeaf-spot',\n",
       "       'frog-eye-leaf-spot', 'anthracnose', 'alternarialeaf-spot',\n",
       "       'charcoal-rot', 'alternarialeaf-spot', 'alternarialeaf-spot',\n",
       "       'diaporthe-stem-canker', 'frog-eye-leaf-spot', 'brown-stem-rot',\n",
       "       'frog-eye-leaf-spot', 'diaporthe-pod-&-stem-blight',\n",
       "       'phytophthora-rot', 'diaporthe-pod-&-stem-blight',\n",
       "       'frog-eye-leaf-spot', 'anthracnose', 'alternarialeaf-spot',\n",
       "       'frog-eye-leaf-spot', 'phytophthora-rot', 'powdery-mildew',\n",
       "       'alternarialeaf-spot', 'herbicide-injury', 'brown-spot',\n",
       "       'frog-eye-leaf-spot', 'diaporthe-pod-&-stem-blight',\n",
       "       'purple-seed-stain', 'alternarialeaf-spot',\n",
       "       'diaporthe-pod-&-stem-blight'], dtype=object)"
      ]
     },
     "execution_count": 16,
     "metadata": {},
     "output_type": "execute_result"
    }
   ],
   "source": [
    "previsoes = knn.predict(X_teste)\n",
    "previsoes"
   ]
  },
  {
   "cell_type": "code",
   "execution_count": 17,
   "id": "d9699d31-2389-4efa-84b6-f344f611ed37",
   "metadata": {},
   "outputs": [
    {
     "data": {
      "text/plain": [
       "0.775609756097561"
      ]
     },
     "execution_count": 17,
     "metadata": {},
     "output_type": "execute_result"
    }
   ],
   "source": [
    "taxa_acerto = accuracy_score(y_teste, previsoes)\n",
    "taxa_acerto"
   ]
  },
  {
   "cell_type": "code",
   "execution_count": null,
   "id": "6b8957dd-d616-4578-8eb4-a24af33d936b",
   "metadata": {},
   "outputs": [],
   "source": []
  },
  {
   "cell_type": "code",
   "execution_count": null,
   "id": "8f51dad9-b8e5-400f-8255-5c88a2db8985",
   "metadata": {},
   "outputs": [],
   "source": []
  }
 ],
 "metadata": {
  "kernelspec": {
   "display_name": "Python 3 (ipykernel)",
   "language": "python",
   "name": "python3"
  },
  "language_info": {
   "codemirror_mode": {
    "name": "ipython",
    "version": 3
   },
   "file_extension": ".py",
   "mimetype": "text/x-python",
   "name": "python",
   "nbconvert_exporter": "python",
   "pygments_lexer": "ipython3",
   "version": "3.9.13"
  }
 },
 "nbformat": 4,
 "nbformat_minor": 5
}
